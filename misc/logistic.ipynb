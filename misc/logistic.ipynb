{
 "cells": [
  {
   "cell_type": "code",
   "execution_count": 6,
   "metadata": {},
   "outputs": [],
   "source": [
    "from statsmodels.api import Logit\n",
    "import numpy as np\n",
    "import pandas as pd\n",
    "import matplotlib.pyplot as plt\n",
    "import seaborn as sns\n",
    "from sklearn.model_selection import train_test_split"
   ]
  },
  {
   "cell_type": "code",
   "execution_count": 132,
   "metadata": {},
   "outputs": [],
   "source": [
    "sns.set_style(\"darkgrid\")"
   ]
  },
  {
   "cell_type": "code",
   "execution_count": 3,
   "metadata": {},
   "outputs": [],
   "source": [
    "%matplotlib inline"
   ]
  },
  {
   "cell_type": "markdown",
   "metadata": {},
   "source": [
    "## <font color=\"#104E8B\">数据集拆分"
   ]
  },
  {
   "cell_type": "code",
   "execution_count": 5,
   "metadata": {},
   "outputs": [],
   "source": [
    "data = pd.read_csv(r\"your file path\")"
   ]
  },
  {
   "cell_type": "code",
   "execution_count": 10,
   "metadata": {},
   "outputs": [
    {
     "name": "stderr",
     "output_type": "stream",
     "text": [
      "C:\\ProgramData\\Anaconda3\\lib\\site-packages\\sklearn\\model_selection\\_split.py:2069: FutureWarning: From version 0.21, test_size will always complement train_size unless both are specified.\n",
      "  FutureWarning)\n"
     ]
    }
   ],
   "source": [
    "train_X, test_X, train_y, test_y = train_test_split(data, data[\"flagy\"], train_size=0.7, random_state=1)"
   ]
  },
  {
   "cell_type": "markdown",
   "metadata": {},
   "source": [
    "## <font color=\"#104E8B\">woe转换"
   ]
  },
  {
   "cell_type": "markdown",
   "metadata": {},
   "source": [
    "* 在该部分，将入模变量，转换为woe，下面仅展示了两个变量的woe转换逻辑，其他以此类推，每个变量都定义一个转换函数"
   ]
  },
  {
   "cell_type": "code",
   "execution_count": 11,
   "metadata": {},
   "outputs": [],
   "source": [
    "def transfor_rh_query_credit_num(x):\n",
    "    if x <= -99: return -0.5799\n",
    "    elif x <= 2: return -0.0746\n",
    "    elif x <= 6: return 0.0219\n",
    "    elif x <= 9: return 0.3036\n",
    "    else: return 0.6213\n",
    "    \n",
    "def transfor_rh_credit_reject_num(x):\n",
    "    if x <= 0: return -0.5014\n",
    "    elif x <= 1: return -0.9585\n",
    "    elif x <= 3: return 0.3494\n",
    "    elif x <= 10: return 0.6273\n",
    "    else: return 0.8468\n",
    "    "
   ]
  },
  {
   "cell_type": "markdown",
   "metadata": {},
   "source": [
    "* 对训练集进行woe转换。一下仅展示两个变量的转换过程，其他变量以此类推"
   ]
  },
  {
   "cell_type": "code",
   "execution_count": 13,
   "metadata": {},
   "outputs": [],
   "source": [
    "train_X[\"woe_rh_query_credit_num\"] = train_X[\"rh_query_credit_num\"].apply(transfor_rh_query_credit_num)\n",
    "train_X[\"woe_rh_credit_reject_num\"] = train_X[\"rh_credit_reject_num\"].apply(transfor_rh_credit_reject_num)"
   ]
  },
  {
   "cell_type": "markdown",
   "metadata": {},
   "source": [
    "* 对测试集进行woe转换"
   ]
  },
  {
   "cell_type": "code",
   "execution_count": null,
   "metadata": {},
   "outputs": [],
   "source": [
    "test_X[\"woe_rh_query_credit_num\"] = test_X[\"rh_query_credit_num\"].apply(transfor_rh_query_credit_num)\n",
    "test_X[\"woe_rh_credit_reject_num\"] = test_X[\"rh_credit_reject_num\"].apply(transfor_rh_credit_reject_num)"
   ]
  },
  {
   "cell_type": "markdown",
   "metadata": {},
   "source": [
    "## <font color=\"#104E8B\"> 模型训练"
   ]
  },
  {
   "cell_type": "markdown",
   "metadata": {},
   "source": [
    "* 经过woe转换后的入模变量"
   ]
  },
  {
   "cell_type": "code",
   "execution_count": 32,
   "metadata": {},
   "outputs": [],
   "source": [
    "features = [\n",
    "    \"woe_rh_query_credit_num\",\n",
    "    \"woe_rh_credit_reject_num\",\n",
    "    \"woe_rh_loan_reject_num\",\n",
    "    \"woe_rh_m12_max_rate_credit_Utilization\",\n",
    "    \"woe_rh_sum_price_rate\",\n",
    "    \"woe_rh_m12_credit_num\"\n",
    "]"
   ]
  },
  {
   "cell_type": "markdown",
   "metadata": {},
   "source": [
    "* 开始训练"
   ]
  },
  {
   "cell_type": "code",
   "execution_count": 34,
   "metadata": {},
   "outputs": [
    {
     "name": "stdout",
     "output_type": "stream",
     "text": [
      "Optimization terminated successfully.\n",
      "         Current function value: 0.606714\n",
      "         Iterations 5\n"
     ]
    }
   ],
   "source": [
    "lr = Logit(train_y, train_X[features]).fit()"
   ]
  },
  {
   "cell_type": "markdown",
   "metadata": {},
   "source": [
    "* 模型参数和统计指标"
   ]
  },
  {
   "cell_type": "code",
   "execution_count": 36,
   "metadata": {},
   "outputs": [
    {
     "data": {
      "text/html": [
       "<table class=\"simpletable\">\n",
       "<tr>\n",
       "        <td>Model:</td>              <td>Logit</td>      <td>Pseudo R-squared:</td>   <td>-3.642</td>  \n",
       "</tr>\n",
       "<tr>\n",
       "  <td>Dependent Variable:</td>      <td>flagy2</td>            <td>AIC:</td>        <td>12380.4648</td>\n",
       "</tr>\n",
       "<tr>\n",
       "         <td>Date:</td>        <td>2019-11-26 17:07</td>       <td>BIC:</td>        <td>12423.8416</td>\n",
       "</tr>\n",
       "<tr>\n",
       "   <td>No. Observations:</td>        <td>10193</td>       <td>Log-Likelihood:</td>    <td>-6184.2</td> \n",
       "</tr>\n",
       "<tr>\n",
       "       <td>Df Model:</td>              <td>5</td>            <td>LL-Null:</td>        <td>-1332.2</td> \n",
       "</tr>\n",
       "<tr>\n",
       "     <td>Df Residuals:</td>          <td>10187</td>        <td>LLR p-value:</td>      <td>1.0000</td>  \n",
       "</tr>\n",
       "<tr>\n",
       "      <td>Converged:</td>           <td>1.0000</td>           <td>Scale:</td>         <td>1.0000</td>  \n",
       "</tr>\n",
       "<tr>\n",
       "    <td>No. Iterations:</td>        <td>5.0000</td>              <td></td>               <td></td>     \n",
       "</tr>\n",
       "</table>\n",
       "<table class=\"simpletable\">\n",
       "<tr>\n",
       "                     <td></td>                     <th>Coef.</th>  <th>Std.Err.</th>    <th>z</th>     <th>P>|z|</th> <th>[0.025</th>  <th>0.975]</th> \n",
       "</tr>\n",
       "<tr>\n",
       "  <th>woe_rh_query_credit_num</th>                <td>-0.2284</td>  <td>0.0737</td>  <td>-3.0984</td> <td>0.0019</td> <td>-0.3728</td> <td>-0.0839</td>\n",
       "</tr>\n",
       "<tr>\n",
       "  <th>woe_rh_credit_reject_num</th>               <td>0.8442</td>   <td>0.0462</td>  <td>18.2827</td> <td>0.0000</td> <td>0.7537</td>  <td>0.9348</td> \n",
       "</tr>\n",
       "<tr>\n",
       "  <th>woe_rh_loan_reject_num</th>                 <td>0.9055</td>   <td>0.0405</td>  <td>22.3821</td> <td>0.0000</td> <td>0.8262</td>  <td>0.9848</td> \n",
       "</tr>\n",
       "<tr>\n",
       "  <th>woe_rh_m12_max_rate_credit_Utilization</th> <td>0.5712</td>   <td>0.0826</td>  <td>6.9170</td>  <td>0.0000</td> <td>0.4093</td>  <td>0.7330</td> \n",
       "</tr>\n",
       "<tr>\n",
       "  <th>woe_rh_sum_price_rate</th>                  <td>0.9917</td>   <td>0.0934</td>  <td>10.6127</td> <td>0.0000</td> <td>0.8085</td>  <td>1.1748</td> \n",
       "</tr>\n",
       "<tr>\n",
       "  <th>woe_rh_m12_credit_num</th>                  <td>0.7638</td>   <td>0.1224</td>  <td>6.2407</td>  <td>0.0000</td> <td>0.5239</td>  <td>1.0037</td> \n",
       "</tr>\n",
       "</table>"
      ],
      "text/plain": [
       "<class 'statsmodels.iolib.summary2.Summary'>\n",
       "\"\"\"\n",
       "                                    Results: Logit\n",
       "======================================================================================\n",
       "Model:                     Logit                   Pseudo R-squared:        -3.642    \n",
       "Dependent Variable:        flagy2                  AIC:                     12380.4648\n",
       "Date:                      2019-11-26 17:07        BIC:                     12423.8416\n",
       "No. Observations:          10193                   Log-Likelihood:          -6184.2   \n",
       "Df Model:                  5                       LL-Null:                 -1332.2   \n",
       "Df Residuals:              10187                   LLR p-value:             1.0000    \n",
       "Converged:                 1.0000                  Scale:                   1.0000    \n",
       "No. Iterations:            5.0000                                                     \n",
       "--------------------------------------------------------------------------------------\n",
       "                                        Coef.  Std.Err.    z    P>|z|   [0.025  0.975]\n",
       "--------------------------------------------------------------------------------------\n",
       "woe_rh_query_credit_num                -0.2284   0.0737 -3.0984 0.0019 -0.3728 -0.0839\n",
       "woe_rh_credit_reject_num                0.8442   0.0462 18.2827 0.0000  0.7537  0.9348\n",
       "woe_rh_loan_reject_num                  0.9055   0.0405 22.3821 0.0000  0.8262  0.9848\n",
       "woe_rh_m12_max_rate_credit_Utilization  0.5712   0.0826  6.9170 0.0000  0.4093  0.7330\n",
       "woe_rh_sum_price_rate                   0.9917   0.0934 10.6127 0.0000  0.8085  1.1748\n",
       "woe_rh_m12_credit_num                   0.7638   0.1224  6.2407 0.0000  0.5239  1.0037\n",
       "======================================================================================\n",
       "\n",
       "\"\"\""
      ]
     },
     "execution_count": 36,
     "metadata": {},
     "output_type": "execute_result"
    }
   ],
   "source": [
    "lr.summary2()"
   ]
  },
  {
   "cell_type": "markdown",
   "metadata": {},
   "source": [
    "* 共线性（VIF）"
   ]
  },
  {
   "cell_type": "code",
   "execution_count": 305,
   "metadata": {},
   "outputs": [],
   "source": [
    "from statsmodels.stats.outliers_influence import variance_inflation_factor\n",
    "\n",
    "def vif_score(X):\n",
    "    var = X.columns\n",
    "    X = X.values\n",
    "    vifs = {var[i]: variance_inflation_factor(X, i)for i in range(X.shape[1])}\n",
    "    return vifs"
   ]
  },
  {
   "cell_type": "code",
   "execution_count": 310,
   "metadata": {},
   "outputs": [
    {
     "data": {
      "text/plain": [
       "woe_rh_query_credit_num                   2.006324\n",
       "woe_rh_credit_reject_num                  1.535417\n",
       "woe_rh_loan_reject_num                    1.225022\n",
       "woe_rh_m12_max_rate_credit_Utilization    1.196093\n",
       "woe_rh_sum_price_rate                     1.045625\n",
       "woe_rh_m12_credit_num                     1.366520\n",
       "dtype: float64"
      ]
     },
     "execution_count": 310,
     "metadata": {},
     "output_type": "execute_result"
    }
   ],
   "source": [
    "pd.Series(vif_score(train_X[features]))"
   ]
  },
  {
   "cell_type": "markdown",
   "metadata": {},
   "source": [
    "## <font color=\"#104E8B\"> 模型效果"
   ]
  },
  {
   "cell_type": "markdown",
   "metadata": {},
   "source": [
    "### <font color=\"#1C86EE\"> 评分分布"
   ]
  },
  {
   "cell_type": "code",
   "execution_count": 285,
   "metadata": {},
   "outputs": [],
   "source": [
    "def get_score(x):\n",
    "    score=350-200*np.log2(x)\n",
    "    score[score<300] = 300\n",
    "    score[score>1000] = 1000\n",
    "    return score"
   ]
  },
  {
   "cell_type": "code",
   "execution_count": 286,
   "metadata": {},
   "outputs": [],
   "source": [
    "train_p = lr.predict(train_X[features])\n",
    "train_score = get_score(train_p)"
   ]
  },
  {
   "cell_type": "code",
   "execution_count": 287,
   "metadata": {},
   "outputs": [
    {
     "data": {
      "text/plain": [
       "<matplotlib.axes._subplots.AxesSubplot at 0x1a31ad4db38>"
      ]
     },
     "execution_count": 287,
     "metadata": {},
     "output_type": "execute_result"
    },
    {
     "data": {
      "image/png": "[encoded data removed]",
      "text/plain": [
       "<matplotlib.figure.Figure at 0x1a31afdc320>"
      ]
     },
     "metadata": {},
     "output_type": "display_data"
    }
   ],
   "source": [
    "temp_train = pd.DataFrame({\"proba\":train_p,\"score\":train_score, \"flagy\":train_y})\n",
    "temp_train[\"cut\"] = pd.cut(temp_train[\"score\"], bins=[i for i in range(300, 1000, 50)], right=False)\n",
    "temp_train[\"cut\"].value_counts().sort_index().plot.bar(figsize=(10, 6), fontsize=15)"
   ]
  },
  {
   "cell_type": "markdown",
   "metadata": {},
   "source": [
    "### <font color=\"#1C86EE\"> KS"
   ]
  },
  {
   "cell_type": "code",
   "execution_count": 288,
   "metadata": {},
   "outputs": [
    {
     "data": {
      "text/html": [
       "<div>\n",
       "<style scoped>\n",
       "    .dataframe tbody tr th:only-of-type {\n",
       "        vertical-align: middle;\n",
       "    }\n",
       "\n",
       "    .dataframe tbody tr th {\n",
       "        vertical-align: top;\n",
       "    }\n",
       "\n",
       "    .dataframe thead th {\n",
       "        text-align: right;\n",
       "    }\n",
       "</style>\n",
       "<table border=\"1\" class=\"dataframe\">\n",
       "  <thead>\n",
       "    <tr style=\"text-align: right;\">\n",
       "      <th></th>\n",
       "      <th>sum</th>\n",
       "      <th>count</th>\n",
       "    </tr>\n",
       "    <tr>\n",
       "      <th>cut</th>\n",
       "      <th></th>\n",
       "      <th></th>\n",
       "    </tr>\n",
       "  </thead>\n",
       "  <tbody>\n",
       "    <tr>\n",
       "      <th>[300, 350)</th>\n",
       "      <td>0.0</td>\n",
       "      <td>0</td>\n",
       "    </tr>\n",
       "    <tr>\n",
       "      <th>[350, 400)</th>\n",
       "      <td>36.0</td>\n",
       "      <td>241</td>\n",
       "    </tr>\n",
       "    <tr>\n",
       "      <th>[400, 450)</th>\n",
       "      <td>58.0</td>\n",
       "      <td>773</td>\n",
       "    </tr>\n",
       "    <tr>\n",
       "      <th>[450, 500)</th>\n",
       "      <td>44.0</td>\n",
       "      <td>911</td>\n",
       "    </tr>\n",
       "    <tr>\n",
       "      <th>[500, 550)</th>\n",
       "      <td>44.0</td>\n",
       "      <td>1138</td>\n",
       "    </tr>\n",
       "    <tr>\n",
       "      <th>[550, 600)</th>\n",
       "      <td>40.0</td>\n",
       "      <td>1238</td>\n",
       "    </tr>\n",
       "    <tr>\n",
       "      <th>[600, 650)</th>\n",
       "      <td>28.0</td>\n",
       "      <td>1487</td>\n",
       "    </tr>\n",
       "    <tr>\n",
       "      <th>[650, 700)</th>\n",
       "      <td>9.0</td>\n",
       "      <td>849</td>\n",
       "    </tr>\n",
       "    <tr>\n",
       "      <th>[700, 750)</th>\n",
       "      <td>22.0</td>\n",
       "      <td>1910</td>\n",
       "    </tr>\n",
       "    <tr>\n",
       "      <th>[750, 800)</th>\n",
       "      <td>6.0</td>\n",
       "      <td>812</td>\n",
       "    </tr>\n",
       "    <tr>\n",
       "      <th>[800, 850)</th>\n",
       "      <td>3.0</td>\n",
       "      <td>509</td>\n",
       "    </tr>\n",
       "    <tr>\n",
       "      <th>[850, 900)</th>\n",
       "      <td>2.0</td>\n",
       "      <td>230</td>\n",
       "    </tr>\n",
       "    <tr>\n",
       "      <th>[900, 950)</th>\n",
       "      <td>2.0</td>\n",
       "      <td>78</td>\n",
       "    </tr>\n",
       "  </tbody>\n",
       "</table>\n",
       "</div>"
      ],
      "text/plain": [
       "             sum  count\n",
       "cut                    \n",
       "[300, 350)   0.0      0\n",
       "[350, 400)  36.0    241\n",
       "[400, 450)  58.0    773\n",
       "[450, 500)  44.0    911\n",
       "[500, 550)  44.0   1138\n",
       "[550, 600)  40.0   1238\n",
       "[600, 650)  28.0   1487\n",
       "[650, 700)   9.0    849\n",
       "[700, 750)  22.0   1910\n",
       "[750, 800)   6.0    812\n",
       "[800, 850)   3.0    509\n",
       "[850, 900)   2.0    230\n",
       "[900, 950)   2.0     78"
      ]
     },
     "execution_count": 288,
     "metadata": {},
     "output_type": "execute_result"
    }
   ],
   "source": [
    "ks = temp_train[\"flagy\"].groupby(temp_train[\"cut\"]).agg([\"sum\", \"count\"])\n",
    "ks"
   ]
  },
  {
   "cell_type": "code",
   "execution_count": 289,
   "metadata": {},
   "outputs": [],
   "source": [
    "ks[\"count_cum\"] = ks[[\"count\"]].cumsum()\n",
    "ks[\"bad_count_cum\"] = ks[[\"sum\"]].cumsum()\n",
    "ks[\"good_count_cum\"] = ks[\"count_cum\"] - ks[\"bad_count_cum\"]\n",
    "ks[\"bad_rate_cum\"] = ks[\"bad_count_cum\"]/ks[\"bad_count_cum\"].max()\n",
    "ks[\"good_rate_cum\"] = ks[\"good_count_cum\"]/ks[\"good_count_cum\"].max()\n",
    "ks[\"ks_curve\"] = np.abs(ks[\"bad_rate_cum\"] - ks[\"good_rate_cum\"])"
   ]
  },
  {
   "cell_type": "code",
   "execution_count": 290,
   "metadata": {},
   "outputs": [
    {
     "data": {
      "text/html": [
       "<div>\n",
       "<style scoped>\n",
       "    .dataframe tbody tr th:only-of-type {\n",
       "        vertical-align: middle;\n",
       "    }\n",
       "\n",
       "    .dataframe tbody tr th {\n",
       "        vertical-align: top;\n",
       "    }\n",
       "\n",
       "    .dataframe thead th {\n",
       "        text-align: right;\n",
       "    }\n",
       "</style>\n",
       "<table border=\"1\" class=\"dataframe\">\n",
       "  <thead>\n",
       "    <tr style=\"text-align: right;\">\n",
       "      <th></th>\n",
       "      <th>sum</th>\n",
       "      <th>count</th>\n",
       "      <th>count_cum</th>\n",
       "      <th>bad_count_cum</th>\n",
       "      <th>good_count_cum</th>\n",
       "      <th>bad_rate_cum</th>\n",
       "      <th>good_rate_cum</th>\n",
       "      <th>ks_curve</th>\n",
       "    </tr>\n",
       "    <tr>\n",
       "      <th>cut</th>\n",
       "      <th></th>\n",
       "      <th></th>\n",
       "      <th></th>\n",
       "      <th></th>\n",
       "      <th></th>\n",
       "      <th></th>\n",
       "      <th></th>\n",
       "      <th></th>\n",
       "    </tr>\n",
       "  </thead>\n",
       "  <tbody>\n",
       "    <tr>\n",
       "      <th>[300, 350)</th>\n",
       "      <td>0.0</td>\n",
       "      <td>0</td>\n",
       "      <td>0</td>\n",
       "      <td>0.0</td>\n",
       "      <td>0.0</td>\n",
       "      <td>0.000000</td>\n",
       "      <td>0.000000</td>\n",
       "      <td>0.000000</td>\n",
       "    </tr>\n",
       "    <tr>\n",
       "      <th>[350, 400)</th>\n",
       "      <td>36.0</td>\n",
       "      <td>241</td>\n",
       "      <td>241</td>\n",
       "      <td>36.0</td>\n",
       "      <td>205.0</td>\n",
       "      <td>0.122449</td>\n",
       "      <td>0.020745</td>\n",
       "      <td>0.101704</td>\n",
       "    </tr>\n",
       "    <tr>\n",
       "      <th>[400, 450)</th>\n",
       "      <td>58.0</td>\n",
       "      <td>773</td>\n",
       "      <td>1014</td>\n",
       "      <td>94.0</td>\n",
       "      <td>920.0</td>\n",
       "      <td>0.319728</td>\n",
       "      <td>0.093099</td>\n",
       "      <td>0.226629</td>\n",
       "    </tr>\n",
       "    <tr>\n",
       "      <th>[450, 500)</th>\n",
       "      <td>44.0</td>\n",
       "      <td>911</td>\n",
       "      <td>1925</td>\n",
       "      <td>138.0</td>\n",
       "      <td>1787.0</td>\n",
       "      <td>0.469388</td>\n",
       "      <td>0.180834</td>\n",
       "      <td>0.288554</td>\n",
       "    </tr>\n",
       "    <tr>\n",
       "      <th>[500, 550)</th>\n",
       "      <td>44.0</td>\n",
       "      <td>1138</td>\n",
       "      <td>3063</td>\n",
       "      <td>182.0</td>\n",
       "      <td>2881.0</td>\n",
       "      <td>0.619048</td>\n",
       "      <td>0.291540</td>\n",
       "      <td>0.327507</td>\n",
       "    </tr>\n",
       "    <tr>\n",
       "      <th>[550, 600)</th>\n",
       "      <td>40.0</td>\n",
       "      <td>1238</td>\n",
       "      <td>4301</td>\n",
       "      <td>222.0</td>\n",
       "      <td>4079.0</td>\n",
       "      <td>0.755102</td>\n",
       "      <td>0.412771</td>\n",
       "      <td>0.342331</td>\n",
       "    </tr>\n",
       "    <tr>\n",
       "      <th>[600, 650)</th>\n",
       "      <td>28.0</td>\n",
       "      <td>1487</td>\n",
       "      <td>5788</td>\n",
       "      <td>250.0</td>\n",
       "      <td>5538.0</td>\n",
       "      <td>0.850340</td>\n",
       "      <td>0.560413</td>\n",
       "      <td>0.289927</td>\n",
       "    </tr>\n",
       "    <tr>\n",
       "      <th>[650, 700)</th>\n",
       "      <td>9.0</td>\n",
       "      <td>849</td>\n",
       "      <td>6637</td>\n",
       "      <td>259.0</td>\n",
       "      <td>6378.0</td>\n",
       "      <td>0.880952</td>\n",
       "      <td>0.645416</td>\n",
       "      <td>0.235536</td>\n",
       "    </tr>\n",
       "    <tr>\n",
       "      <th>[700, 750)</th>\n",
       "      <td>22.0</td>\n",
       "      <td>1910</td>\n",
       "      <td>8547</td>\n",
       "      <td>281.0</td>\n",
       "      <td>8266.0</td>\n",
       "      <td>0.955782</td>\n",
       "      <td>0.836470</td>\n",
       "      <td>0.119312</td>\n",
       "    </tr>\n",
       "    <tr>\n",
       "      <th>[750, 800)</th>\n",
       "      <td>6.0</td>\n",
       "      <td>812</td>\n",
       "      <td>9359</td>\n",
       "      <td>287.0</td>\n",
       "      <td>9072.0</td>\n",
       "      <td>0.976190</td>\n",
       "      <td>0.918033</td>\n",
       "      <td>0.058158</td>\n",
       "    </tr>\n",
       "    <tr>\n",
       "      <th>[800, 850)</th>\n",
       "      <td>3.0</td>\n",
       "      <td>509</td>\n",
       "      <td>9868</td>\n",
       "      <td>290.0</td>\n",
       "      <td>9578.0</td>\n",
       "      <td>0.986395</td>\n",
       "      <td>0.969237</td>\n",
       "      <td>0.017158</td>\n",
       "    </tr>\n",
       "    <tr>\n",
       "      <th>[850, 900)</th>\n",
       "      <td>2.0</td>\n",
       "      <td>230</td>\n",
       "      <td>10098</td>\n",
       "      <td>292.0</td>\n",
       "      <td>9806.0</td>\n",
       "      <td>0.993197</td>\n",
       "      <td>0.992309</td>\n",
       "      <td>0.000888</td>\n",
       "    </tr>\n",
       "    <tr>\n",
       "      <th>[900, 950)</th>\n",
       "      <td>2.0</td>\n",
       "      <td>78</td>\n",
       "      <td>10176</td>\n",
       "      <td>294.0</td>\n",
       "      <td>9882.0</td>\n",
       "      <td>1.000000</td>\n",
       "      <td>1.000000</td>\n",
       "      <td>0.000000</td>\n",
       "    </tr>\n",
       "  </tbody>\n",
       "</table>\n",
       "</div>"
      ],
      "text/plain": [
       "             sum  count  count_cum  bad_count_cum  good_count_cum  bad_rate_cum  good_rate_cum  ks_curve\n",
       "cut                                                                                                     \n",
       "[300, 350)   0.0      0          0            0.0             0.0      0.000000       0.000000  0.000000\n",
       "[350, 400)  36.0    241        241           36.0           205.0      0.122449       0.020745  0.101704\n",
       "[400, 450)  58.0    773       1014           94.0           920.0      0.319728       0.093099  0.226629\n",
       "[450, 500)  44.0    911       1925          138.0          1787.0      0.469388       0.180834  0.288554\n",
       "[500, 550)  44.0   1138       3063          182.0          2881.0      0.619048       0.291540  0.327507\n",
       "[550, 600)  40.0   1238       4301          222.0          4079.0      0.755102       0.412771  0.342331\n",
       "[600, 650)  28.0   1487       5788          250.0          5538.0      0.850340       0.560413  0.289927\n",
       "[650, 700)   9.0    849       6637          259.0          6378.0      0.880952       0.645416  0.235536\n",
       "[700, 750)  22.0   1910       8547          281.0          8266.0      0.955782       0.836470  0.119312\n",
       "[750, 800)   6.0    812       9359          287.0          9072.0      0.976190       0.918033  0.058158\n",
       "[800, 850)   3.0    509       9868          290.0          9578.0      0.986395       0.969237  0.017158\n",
       "[850, 900)   2.0    230      10098          292.0          9806.0      0.993197       0.992309  0.000888\n",
       "[900, 950)   2.0     78      10176          294.0          9882.0      1.000000       1.000000  0.000000"
      ]
     },
     "execution_count": 290,
     "metadata": {},
     "output_type": "execute_result"
    }
   ],
   "source": [
    "ks"
   ]
  },
  {
   "cell_type": "code",
   "execution_count": 291,
   "metadata": {},
   "outputs": [
    {
     "data": {
      "text/plain": [
       "<matplotlib.axes._subplots.AxesSubplot at 0x1a31b142710>"
      ]
     },
     "execution_count": 291,
     "metadata": {},
     "output_type": "execute_result"
    },
    {
     "data": {
      "image/png": "[encoded data removed]",
      "text/plain": [
       "<matplotlib.figure.Figure at 0x1a31aff6e10>"
      ]
     },
     "metadata": {},
     "output_type": "display_data"
    }
   ],
   "source": [
    "ks[[\"bad_rate_cum\",\"good_rate_cum\",\"ks_curve\"]].plot(title=\"ks={}\".format(ks[\"ks_curve\"].max()),\n",
    "                                                     xticks=range(14), rot=60, figsize=(10, 6), fontsize=15,)"
   ]
  },
  {
   "cell_type": "markdown",
   "metadata": {},
   "source": [
    "### <font color=\"#1C86EE\"> ROC"
   ]
  },
  {
   "cell_type": "code",
   "execution_count": 292,
   "metadata": {},
   "outputs": [],
   "source": [
    "from sklearn.metrics import roc_curve, auc"
   ]
  },
  {
   "cell_type": "code",
   "execution_count": 293,
   "metadata": {},
   "outputs": [],
   "source": [
    "fpr, tpr, thresholds = roc_curve(train_y, train_score, pos_label=0)\n",
    "auc_score = auc(fpr, tpr)"
   ]
  },
  {
   "cell_type": "code",
   "execution_count": 294,
   "metadata": {},
   "outputs": [
    {
     "data": {
      "text/plain": [
       "<matplotlib.axes._axes.Axes at 0x1a31b054c18>"
      ]
     },
     "execution_count": 294,
     "metadata": {},
     "output_type": "execute_result"
    },
    {
     "data": {
      "image/png": "[encoded data removed]",
      "text/plain": [
       "<matplotlib.figure.Figure at 0x1a31b15a5f8>"
      ]
     },
     "metadata": {},
     "output_type": "display_data"
    }
   ],
   "source": [
    "fig = plt.figure(figsize=(8, 5))\n",
    "ax = fig.add_axes((0, 0, 1, 1))\n",
    "ax.set_title(label='auc={}'.format(auc_score),size=15)\n",
    "sns.lineplot(fpr, tpr, ax=ax)\n",
    "sns.lineplot([0, 1], [0,1],ax=ax)"
   ]
  },
  {
   "cell_type": "markdown",
   "metadata": {},
   "source": [
    "## <font color=\"#104E8B\">模型稳定性验证"
   ]
  },
  {
   "cell_type": "code",
   "execution_count": 295,
   "metadata": {},
   "outputs": [],
   "source": [
    "test_p = lr.predict(test_X[features])\n",
    "test_score = get_score(test_p)"
   ]
  },
  {
   "cell_type": "markdown",
   "metadata": {},
   "source": [
    "### <font color=\"#1C86EE\"> 测试集评分分布"
   ]
  },
  {
   "cell_type": "code",
   "execution_count": 296,
   "metadata": {},
   "outputs": [
    {
     "data": {
      "text/plain": [
       "<matplotlib.axes._subplots.AxesSubplot at 0x1a31af8b668>"
      ]
     },
     "execution_count": 296,
     "metadata": {},
     "output_type": "execute_result"
    },
    {
     "data": {
      "image/png": "[encoded data removed]",
      "text/plain": [
       "<matplotlib.figure.Figure at 0x1a31b0ecac8>"
      ]
     },
     "metadata": {},
     "output_type": "display_data"
    }
   ],
   "source": [
    "temp_test = pd.DataFrame({\"proba\":test_p,\"score\":test_score, \"flagy\":test_y})\n",
    "temp_test[\"cut\"] = pd.cut(temp_test[\"score\"], bins=[i for i in range(300, 1000, 50)], right=False)\n",
    "temp_test[\"cut\"].value_counts().sort_index().plot.bar(figsize=(10, 6), fontsize=15)"
   ]
  },
  {
   "cell_type": "markdown",
   "metadata": {},
   "source": [
    "### <font color=\"#1C86EE\"> 测试集ks"
   ]
  },
  {
   "cell_type": "code",
   "execution_count": 297,
   "metadata": {},
   "outputs": [
    {
     "data": {
      "text/html": [
       "<div>\n",
       "<style scoped>\n",
       "    .dataframe tbody tr th:only-of-type {\n",
       "        vertical-align: middle;\n",
       "    }\n",
       "\n",
       "    .dataframe tbody tr th {\n",
       "        vertical-align: top;\n",
       "    }\n",
       "\n",
       "    .dataframe thead th {\n",
       "        text-align: right;\n",
       "    }\n",
       "</style>\n",
       "<table border=\"1\" class=\"dataframe\">\n",
       "  <thead>\n",
       "    <tr style=\"text-align: right;\">\n",
       "      <th></th>\n",
       "      <th>sum</th>\n",
       "      <th>count</th>\n",
       "    </tr>\n",
       "    <tr>\n",
       "      <th>cut</th>\n",
       "      <th></th>\n",
       "      <th></th>\n",
       "    </tr>\n",
       "  </thead>\n",
       "  <tbody>\n",
       "    <tr>\n",
       "      <th>[300, 350)</th>\n",
       "      <td>0.0</td>\n",
       "      <td>0</td>\n",
       "    </tr>\n",
       "    <tr>\n",
       "      <th>[350, 400)</th>\n",
       "      <td>12.0</td>\n",
       "      <td>62</td>\n",
       "    </tr>\n",
       "    <tr>\n",
       "      <th>[400, 450)</th>\n",
       "      <td>18.0</td>\n",
       "      <td>276</td>\n",
       "    </tr>\n",
       "    <tr>\n",
       "      <th>[450, 500)</th>\n",
       "      <td>29.0</td>\n",
       "      <td>463</td>\n",
       "    </tr>\n",
       "    <tr>\n",
       "      <th>[500, 550)</th>\n",
       "      <td>14.0</td>\n",
       "      <td>633</td>\n",
       "    </tr>\n",
       "    <tr>\n",
       "      <th>[550, 600)</th>\n",
       "      <td>9.0</td>\n",
       "      <td>486</td>\n",
       "    </tr>\n",
       "    <tr>\n",
       "      <th>[600, 650)</th>\n",
       "      <td>15.0</td>\n",
       "      <td>1006</td>\n",
       "    </tr>\n",
       "    <tr>\n",
       "      <th>[650, 700)</th>\n",
       "      <td>4.0</td>\n",
       "      <td>404</td>\n",
       "    </tr>\n",
       "    <tr>\n",
       "      <th>[700, 750)</th>\n",
       "      <td>6.0</td>\n",
       "      <td>359</td>\n",
       "    </tr>\n",
       "    <tr>\n",
       "      <th>[750, 800)</th>\n",
       "      <td>1.0</td>\n",
       "      <td>330</td>\n",
       "    </tr>\n",
       "    <tr>\n",
       "      <th>[800, 850)</th>\n",
       "      <td>0.0</td>\n",
       "      <td>149</td>\n",
       "    </tr>\n",
       "    <tr>\n",
       "      <th>[850, 900)</th>\n",
       "      <td>2.0</td>\n",
       "      <td>99</td>\n",
       "    </tr>\n",
       "    <tr>\n",
       "      <th>[900, 950)</th>\n",
       "      <td>2.0</td>\n",
       "      <td>56</td>\n",
       "    </tr>\n",
       "  </tbody>\n",
       "</table>\n",
       "</div>"
      ],
      "text/plain": [
       "             sum  count\n",
       "cut                    \n",
       "[300, 350)   0.0      0\n",
       "[350, 400)  12.0     62\n",
       "[400, 450)  18.0    276\n",
       "[450, 500)  29.0    463\n",
       "[500, 550)  14.0    633\n",
       "[550, 600)   9.0    486\n",
       "[600, 650)  15.0   1006\n",
       "[650, 700)   4.0    404\n",
       "[700, 750)   6.0    359\n",
       "[750, 800)   1.0    330\n",
       "[800, 850)   0.0    149\n",
       "[850, 900)   2.0     99\n",
       "[900, 950)   2.0     56"
      ]
     },
     "execution_count": 297,
     "metadata": {},
     "output_type": "execute_result"
    }
   ],
   "source": [
    "ks_test = temp_test[\"flagy\"].groupby(temp_test[\"cut\"]).agg([\"sum\", \"count\"])\n",
    "ks_test"
   ]
  },
  {
   "cell_type": "code",
   "execution_count": 298,
   "metadata": {},
   "outputs": [],
   "source": [
    "ks_test[\"count_cum\"] = ks_test[[\"count\"]].cumsum()\n",
    "ks_test[\"bad_count_cum\"] = ks_test[[\"sum\"]].cumsum()\n",
    "ks_test[\"good_count_cum\"] = ks_test[\"count_cum\"] - ks_test[\"bad_count_cum\"]\n",
    "ks_test[\"bad_rate_cum\"] = ks_test[\"bad_count_cum\"]/ks_test[\"bad_count_cum\"].max()\n",
    "ks_test[\"good_rate_cum\"] = ks_test[\"good_count_cum\"]/ks_test[\"good_count_cum\"].max()\n",
    "ks_test[\"ks_curve\"] = np.abs(ks_test[\"bad_rate_cum\"] - ks_test[\"good_rate_cum\"])"
   ]
  },
  {
   "cell_type": "code",
   "execution_count": 299,
   "metadata": {},
   "outputs": [
    {
     "data": {
      "text/html": [
       "<div>\n",
       "<style scoped>\n",
       "    .dataframe tbody tr th:only-of-type {\n",
       "        vertical-align: middle;\n",
       "    }\n",
       "\n",
       "    .dataframe tbody tr th {\n",
       "        vertical-align: top;\n",
       "    }\n",
       "\n",
       "    .dataframe thead th {\n",
       "        text-align: right;\n",
       "    }\n",
       "</style>\n",
       "<table border=\"1\" class=\"dataframe\">\n",
       "  <thead>\n",
       "    <tr style=\"text-align: right;\">\n",
       "      <th></th>\n",
       "      <th>sum</th>\n",
       "      <th>count</th>\n",
       "      <th>count_cum</th>\n",
       "      <th>bad_count_cum</th>\n",
       "      <th>good_count_cum</th>\n",
       "      <th>bad_rate_cum</th>\n",
       "      <th>good_rate_cum</th>\n",
       "      <th>ks_curve</th>\n",
       "    </tr>\n",
       "    <tr>\n",
       "      <th>cut</th>\n",
       "      <th></th>\n",
       "      <th></th>\n",
       "      <th></th>\n",
       "      <th></th>\n",
       "      <th></th>\n",
       "      <th></th>\n",
       "      <th></th>\n",
       "      <th></th>\n",
       "    </tr>\n",
       "  </thead>\n",
       "  <tbody>\n",
       "    <tr>\n",
       "      <th>[300, 350)</th>\n",
       "      <td>0.0</td>\n",
       "      <td>0</td>\n",
       "      <td>0</td>\n",
       "      <td>0.0</td>\n",
       "      <td>0.0</td>\n",
       "      <td>0.000000</td>\n",
       "      <td>0.000000</td>\n",
       "      <td>0.000000</td>\n",
       "    </tr>\n",
       "    <tr>\n",
       "      <th>[350, 400)</th>\n",
       "      <td>12.0</td>\n",
       "      <td>62</td>\n",
       "      <td>62</td>\n",
       "      <td>12.0</td>\n",
       "      <td>50.0</td>\n",
       "      <td>0.107143</td>\n",
       "      <td>0.011874</td>\n",
       "      <td>0.095269</td>\n",
       "    </tr>\n",
       "    <tr>\n",
       "      <th>[400, 450)</th>\n",
       "      <td>18.0</td>\n",
       "      <td>276</td>\n",
       "      <td>338</td>\n",
       "      <td>30.0</td>\n",
       "      <td>308.0</td>\n",
       "      <td>0.267857</td>\n",
       "      <td>0.073142</td>\n",
       "      <td>0.194715</td>\n",
       "    </tr>\n",
       "    <tr>\n",
       "      <th>[450, 500)</th>\n",
       "      <td>29.0</td>\n",
       "      <td>463</td>\n",
       "      <td>801</td>\n",
       "      <td>59.0</td>\n",
       "      <td>742.0</td>\n",
       "      <td>0.526786</td>\n",
       "      <td>0.176205</td>\n",
       "      <td>0.350581</td>\n",
       "    </tr>\n",
       "    <tr>\n",
       "      <th>[500, 550)</th>\n",
       "      <td>14.0</td>\n",
       "      <td>633</td>\n",
       "      <td>1434</td>\n",
       "      <td>73.0</td>\n",
       "      <td>1361.0</td>\n",
       "      <td>0.651786</td>\n",
       "      <td>0.323201</td>\n",
       "      <td>0.328585</td>\n",
       "    </tr>\n",
       "    <tr>\n",
       "      <th>[550, 600)</th>\n",
       "      <td>9.0</td>\n",
       "      <td>486</td>\n",
       "      <td>1920</td>\n",
       "      <td>82.0</td>\n",
       "      <td>1838.0</td>\n",
       "      <td>0.732143</td>\n",
       "      <td>0.436476</td>\n",
       "      <td>0.295667</td>\n",
       "    </tr>\n",
       "    <tr>\n",
       "      <th>[600, 650)</th>\n",
       "      <td>15.0</td>\n",
       "      <td>1006</td>\n",
       "      <td>2926</td>\n",
       "      <td>97.0</td>\n",
       "      <td>2829.0</td>\n",
       "      <td>0.866071</td>\n",
       "      <td>0.671812</td>\n",
       "      <td>0.194260</td>\n",
       "    </tr>\n",
       "    <tr>\n",
       "      <th>[650, 700)</th>\n",
       "      <td>4.0</td>\n",
       "      <td>404</td>\n",
       "      <td>3330</td>\n",
       "      <td>101.0</td>\n",
       "      <td>3229.0</td>\n",
       "      <td>0.901786</td>\n",
       "      <td>0.766801</td>\n",
       "      <td>0.134984</td>\n",
       "    </tr>\n",
       "    <tr>\n",
       "      <th>[700, 750)</th>\n",
       "      <td>6.0</td>\n",
       "      <td>359</td>\n",
       "      <td>3689</td>\n",
       "      <td>107.0</td>\n",
       "      <td>3582.0</td>\n",
       "      <td>0.955357</td>\n",
       "      <td>0.850629</td>\n",
       "      <td>0.104728</td>\n",
       "    </tr>\n",
       "    <tr>\n",
       "      <th>[750, 800)</th>\n",
       "      <td>1.0</td>\n",
       "      <td>330</td>\n",
       "      <td>4019</td>\n",
       "      <td>108.0</td>\n",
       "      <td>3911.0</td>\n",
       "      <td>0.964286</td>\n",
       "      <td>0.928758</td>\n",
       "      <td>0.035528</td>\n",
       "    </tr>\n",
       "    <tr>\n",
       "      <th>[800, 850)</th>\n",
       "      <td>0.0</td>\n",
       "      <td>149</td>\n",
       "      <td>4168</td>\n",
       "      <td>108.0</td>\n",
       "      <td>4060.0</td>\n",
       "      <td>0.964286</td>\n",
       "      <td>0.964142</td>\n",
       "      <td>0.000144</td>\n",
       "    </tr>\n",
       "    <tr>\n",
       "      <th>[850, 900)</th>\n",
       "      <td>2.0</td>\n",
       "      <td>99</td>\n",
       "      <td>4267</td>\n",
       "      <td>110.0</td>\n",
       "      <td>4157.0</td>\n",
       "      <td>0.982143</td>\n",
       "      <td>0.987176</td>\n",
       "      <td>0.005034</td>\n",
       "    </tr>\n",
       "    <tr>\n",
       "      <th>[900, 950)</th>\n",
       "      <td>2.0</td>\n",
       "      <td>56</td>\n",
       "      <td>4323</td>\n",
       "      <td>112.0</td>\n",
       "      <td>4211.0</td>\n",
       "      <td>1.000000</td>\n",
       "      <td>1.000000</td>\n",
       "      <td>0.000000</td>\n",
       "    </tr>\n",
       "  </tbody>\n",
       "</table>\n",
       "</div>"
      ],
      "text/plain": [
       "             sum  count  count_cum  bad_count_cum  good_count_cum  bad_rate_cum  good_rate_cum  ks_curve\n",
       "cut                                                                                                     \n",
       "[300, 350)   0.0      0          0            0.0             0.0      0.000000       0.000000  0.000000\n",
       "[350, 400)  12.0     62         62           12.0            50.0      0.107143       0.011874  0.095269\n",
       "[400, 450)  18.0    276        338           30.0           308.0      0.267857       0.073142  0.194715\n",
       "[450, 500)  29.0    463        801           59.0           742.0      0.526786       0.176205  0.350581\n",
       "[500, 550)  14.0    633       1434           73.0          1361.0      0.651786       0.323201  0.328585\n",
       "[550, 600)   9.0    486       1920           82.0          1838.0      0.732143       0.436476  0.295667\n",
       "[600, 650)  15.0   1006       2926           97.0          2829.0      0.866071       0.671812  0.194260\n",
       "[650, 700)   4.0    404       3330          101.0          3229.0      0.901786       0.766801  0.134984\n",
       "[700, 750)   6.0    359       3689          107.0          3582.0      0.955357       0.850629  0.104728\n",
       "[750, 800)   1.0    330       4019          108.0          3911.0      0.964286       0.928758  0.035528\n",
       "[800, 850)   0.0    149       4168          108.0          4060.0      0.964286       0.964142  0.000144\n",
       "[850, 900)   2.0     99       4267          110.0          4157.0      0.982143       0.987176  0.005034\n",
       "[900, 950)   2.0     56       4323          112.0          4211.0      1.000000       1.000000  0.000000"
      ]
     },
     "execution_count": 299,
     "metadata": {},
     "output_type": "execute_result"
    }
   ],
   "source": [
    "ks_test"
   ]
  },
  {
   "cell_type": "code",
   "execution_count": 300,
   "metadata": {},
   "outputs": [
    {
     "data": {
      "text/plain": [
       "<matplotlib.axes._subplots.AxesSubplot at 0x1a31b122be0>"
      ]
     },
     "execution_count": 300,
     "metadata": {},
     "output_type": "execute_result"
    },
    {
     "data": {
      "image/png": "[encoded data removed]",
      "text/plain": [
       "<matplotlib.figure.Figure at 0x1a31b1d6400>"
      ]
     },
     "metadata": {},
     "output_type": "display_data"
    }
   ],
   "source": [
    "ks_test[[\"bad_rate_cum\",\"good_rate_cum\",\"ks_curve\"]].plot(title=\"ks={}\".format(ks_test[\"ks_curve\"].max()),\n",
    "                                                     xticks=range(14), rot=60, figsize=(10, 6), fontsize=15,)"
   ]
  },
  {
   "cell_type": "markdown",
   "metadata": {},
   "source": [
    "### <font color=\"#1C86EE\"> psi"
   ]
  },
  {
   "cell_type": "code",
   "execution_count": 301,
   "metadata": {},
   "outputs": [
    {
     "data": {
      "text/html": [
       "<div>\n",
       "<style scoped>\n",
       "    .dataframe tbody tr th:only-of-type {\n",
       "        vertical-align: middle;\n",
       "    }\n",
       "\n",
       "    .dataframe tbody tr th {\n",
       "        vertical-align: top;\n",
       "    }\n",
       "\n",
       "    .dataframe thead th {\n",
       "        text-align: right;\n",
       "    }\n",
       "</style>\n",
       "<table border=\"1\" class=\"dataframe\">\n",
       "  <thead>\n",
       "    <tr style=\"text-align: right;\">\n",
       "      <th></th>\n",
       "      <th>count_x</th>\n",
       "      <th>count_y</th>\n",
       "    </tr>\n",
       "    <tr>\n",
       "      <th>cut</th>\n",
       "      <th></th>\n",
       "      <th></th>\n",
       "    </tr>\n",
       "  </thead>\n",
       "  <tbody>\n",
       "    <tr>\n",
       "      <th>[300, 350)</th>\n",
       "      <td>0</td>\n",
       "      <td>0</td>\n",
       "    </tr>\n",
       "    <tr>\n",
       "      <th>[350, 400)</th>\n",
       "      <td>241</td>\n",
       "      <td>62</td>\n",
       "    </tr>\n",
       "    <tr>\n",
       "      <th>[400, 450)</th>\n",
       "      <td>773</td>\n",
       "      <td>276</td>\n",
       "    </tr>\n",
       "    <tr>\n",
       "      <th>[450, 500)</th>\n",
       "      <td>911</td>\n",
       "      <td>463</td>\n",
       "    </tr>\n",
       "    <tr>\n",
       "      <th>[500, 550)</th>\n",
       "      <td>1138</td>\n",
       "      <td>633</td>\n",
       "    </tr>\n",
       "    <tr>\n",
       "      <th>[550, 600)</th>\n",
       "      <td>1238</td>\n",
       "      <td>486</td>\n",
       "    </tr>\n",
       "    <tr>\n",
       "      <th>[600, 650)</th>\n",
       "      <td>1487</td>\n",
       "      <td>1006</td>\n",
       "    </tr>\n",
       "    <tr>\n",
       "      <th>[650, 700)</th>\n",
       "      <td>849</td>\n",
       "      <td>404</td>\n",
       "    </tr>\n",
       "    <tr>\n",
       "      <th>[700, 750)</th>\n",
       "      <td>1910</td>\n",
       "      <td>359</td>\n",
       "    </tr>\n",
       "    <tr>\n",
       "      <th>[750, 800)</th>\n",
       "      <td>812</td>\n",
       "      <td>330</td>\n",
       "    </tr>\n",
       "    <tr>\n",
       "      <th>[800, 850)</th>\n",
       "      <td>509</td>\n",
       "      <td>149</td>\n",
       "    </tr>\n",
       "    <tr>\n",
       "      <th>[850, 900)</th>\n",
       "      <td>230</td>\n",
       "      <td>99</td>\n",
       "    </tr>\n",
       "    <tr>\n",
       "      <th>[900, 950)</th>\n",
       "      <td>78</td>\n",
       "      <td>56</td>\n",
       "    </tr>\n",
       "  </tbody>\n",
       "</table>\n",
       "</div>"
      ],
      "text/plain": [
       "            count_x  count_y\n",
       "cut                         \n",
       "[300, 350)        0        0\n",
       "[350, 400)      241       62\n",
       "[400, 450)      773      276\n",
       "[450, 500)      911      463\n",
       "[500, 550)     1138      633\n",
       "[550, 600)     1238      486\n",
       "[600, 650)     1487     1006\n",
       "[650, 700)      849      404\n",
       "[700, 750)     1910      359\n",
       "[750, 800)      812      330\n",
       "[800, 850)      509      149\n",
       "[850, 900)      230       99\n",
       "[900, 950)       78       56"
      ]
     },
     "execution_count": 301,
     "metadata": {},
     "output_type": "execute_result"
    }
   ],
   "source": [
    "psi = ks[[\"count\"]].merge(ks_test[[\"count\"]], left_index=True, right_index=True)\n",
    "psi"
   ]
  },
  {
   "cell_type": "code",
   "execution_count": 302,
   "metadata": {},
   "outputs": [],
   "source": [
    "psi[\"train_dist\"] = psi[\"count_x\"]/psi[\"count_x\"].sum()\n",
    "psi[\"test_dist\"] = psi[\"count_y\"]/psi[\"count_y\"].sum()"
   ]
  },
  {
   "cell_type": "code",
   "execution_count": 303,
   "metadata": {},
   "outputs": [],
   "source": [
    "psi_score = sum((psi[\"train_dist\"]-psi[\"test_dist\"])*np.log((psi[\"train_dist\"]+0.001)/(psi[\"test_dist\"]+0.001)))"
   ]
  },
  {
   "cell_type": "code",
   "execution_count": 304,
   "metadata": {},
   "outputs": [
    {
     "data": {
      "text/plain": [
       "<matplotlib.axes._subplots.AxesSubplot at 0x1a31ca30b38>"
      ]
     },
     "execution_count": 304,
     "metadata": {},
     "output_type": "execute_result"
    },
    {
     "data": {
      "image/png": "[encoded data removed]",
      "text/plain": [
       "<matplotlib.figure.Figure at 0x1a31c7daeb8>"
      ]
     },
     "metadata": {},
     "output_type": "display_data"
    }
   ],
   "source": [
    "psi[[\"train_dist\", \"test_dist\"]].plot(figsize=(10, 6), fontsize=15, title=\"PSI={}\".format(psi_score), \n",
    "                                      xticks=range(14), rot=60)"
   ]
  },
  {
   "cell_type": "code",
   "execution_count": null,
   "metadata": {},
   "outputs": [],
   "source": []
  }
 ],
 "metadata": {
  "hide_input": false,
  "kernelspec": {
   "display_name": "Python 3",
   "language": "python",
   "name": "python3"
  },
  "language_info": {
   "codemirror_mode": {
    "name": "ipython",
    "version": 3
   },
   "file_extension": ".py",
   "mimetype": "text/x-python",
   "name": "python",
   "nbconvert_exporter": "python",
   "pygments_lexer": "ipython3",
   "version": "3.6.4"
  },
  "latex_envs": {
   "LaTeX_envs_menu_present": true,
   "autoclose": false,
   "autocomplete": true,
   "bibliofile": "biblio.bib",
   "cite_by": "apalike",
   "current_citInitial": 1,
   "eqLabelWithNumbers": true,
   "eqNumInitial": 1,
   "hotkeys": {
    "equation": "Ctrl-E",
    "itemize": "Ctrl-I"
   },
   "labels_anchors": false,
   "latex_user_defs": false,
   "report_style_numbering": false,
   "user_envs_cfg": false
  },
  "toc": {
   "base_numbering": 1,
   "nav_menu": {},
   "number_sections": true,
   "sideBar": true,
   "skip_h1_title": false,
   "title_cell": "Table of Contents",
   "title_sidebar": "Contents",
   "toc_cell": false,
   "toc_position": {},
   "toc_section_display": true,
   "toc_window_display": true
  }
 },
 "nbformat": 4,
 "nbformat_minor": 2
}
